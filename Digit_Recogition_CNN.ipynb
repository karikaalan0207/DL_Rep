{
  "nbformat": 4,
  "nbformat_minor": 0,
  "metadata": {
    "colab": {
      "name": "Digit_Recogition_CNN.ipynb",
      "provenance": [],
      "collapsed_sections": [],
      "authorship_tag": "ABX9TyMPvgkr9Zl7Xp4/rBILxSGn",
      "include_colab_link": true
    },
    "kernelspec": {
      "name": "python3",
      "display_name": "Python 3"
    }
  },
  "cells": [
    {
      "cell_type": "markdown",
      "metadata": {
        "id": "view-in-github",
        "colab_type": "text"
      },
      "source": [
        "<a href=\"https://colab.research.google.com/github/karikaalan0207/DL_Rep/blob/master/Digit_Recogition_CNN.ipynb\" target=\"_parent\"><img src=\"https://colab.research.google.com/assets/colab-badge.svg\" alt=\"Open In Colab\"/></a>"
      ]
    },
    {
      "cell_type": "markdown",
      "metadata": {
        "id": "HtfEbJQL24zp",
        "colab_type": "text"
      },
      "source": [
        "**Importing Framework and Other Libraries**"
      ]
    },
    {
      "cell_type": "code",
      "metadata": {
        "id": "vwIu5CcMyC0t",
        "colab_type": "code",
        "colab": {
          "base_uri": "https://localhost:8080/",
          "height": 34
        },
        "outputId": "d5610c06-f649-4377-963b-7457f222fc7e"
      },
      "source": [
        "import numpy as np\n",
        "import keras\n",
        "from keras.datasets import mnist\n",
        "from keras.models import Sequential\n",
        "from keras.layers import Dense, Dropout, Flatten, Conv2D, MaxPooling2D\n",
        "from keras import backend as K\n",
        "from keras.preprocessing import image\n",
        "from keras.applications.mobilenet import MobileNet\n",
        "from keras.applications.vgg16 import preprocess_input, decode_predictions\n",
        "from keras.models import Model\n",
        "import timeit\n",
        "import numpy as np\n",
        "import pylab as plt\n",
        "\n",
        "\n",
        "import warnings\n",
        "warnings.filterwarnings('ignore')\n"
      ],
      "execution_count": null,
      "outputs": [
        {
          "output_type": "stream",
          "text": [
            "Using TensorFlow backend.\n"
          ],
          "name": "stderr"
        }
      ]
    },
    {
      "cell_type": "markdown",
      "metadata": {
        "id": "-SJTb9wn3HvO",
        "colab_type": "text"
      },
      "source": [
        "**Data Pre-Processing**"
      ]
    },
    {
      "cell_type": "code",
      "metadata": {
        "id": "gW9TfaP-yP9b",
        "colab_type": "code",
        "colab": {
          "base_uri": "https://localhost:8080/",
          "height": 102
        },
        "outputId": "f481ccc8-66f0-4de6-861d-64456555e155"
      },
      "source": [
        "batch_size = 128\n",
        "num_classes = 10\n",
        "epochs = 10\n",
        "\n",
        "# input image dimensions\n",
        "img_rows, img_cols = 28, 28\n",
        "\n",
        "# the data, shuffled and split between train and test sets\n",
        "(x_train, y_train), (x_test, y_test) = mnist.load_data()\n",
        "\n",
        "if K.image_data_format() == 'channels_first':\n",
        "    x_train = x_train.reshape(x_train.shape[0], 1, img_rows, img_cols)\n",
        "    x_test = x_test.reshape(x_test.shape[0], 1, img_rows, img_cols)\n",
        "    input_shape = (1, img_rows, img_cols)\n",
        "else:\n",
        "    x_train = x_train.reshape(x_train.shape[0], img_rows, img_cols, 1)\n",
        "    x_test = x_test.reshape(x_test.shape[0], img_rows, img_cols, 1)\n",
        "    input_shape = (img_rows, img_cols, 1)\n",
        "\n",
        "x_train = x_train.astype('float32')\n",
        "x_test = x_test.astype('float32')\n",
        "x_train /= 255\n",
        "x_test /= 255\n",
        "print('x_train shape:', x_train.shape)\n",
        "print(x_train.shape[0], 'train samples')\n",
        "print(x_test.shape[0], 'test samples')\n",
        "\n",
        "# convert class vectors to binary class matrices\n",
        "y_train = keras.utils.to_categorical(y_train, num_classes)\n",
        "y_test = keras.utils.to_categorical(y_test, num_classes)"
      ],
      "execution_count": null,
      "outputs": [
        {
          "output_type": "stream",
          "text": [
            "Downloading data from https://s3.amazonaws.com/img-datasets/mnist.npz\n",
            "11493376/11490434 [==============================] - 0s 0us/step\n",
            "x_train shape: (60000, 28, 28, 1)\n",
            "60000 train samples\n",
            "10000 test samples\n"
          ],
          "name": "stdout"
        }
      ]
    },
    {
      "cell_type": "markdown",
      "metadata": {
        "id": "kAgBR42C3ooq",
        "colab_type": "text"
      },
      "source": [
        "**Building a Model**"
      ]
    },
    {
      "cell_type": "code",
      "metadata": {
        "id": "rKJbIBB_yS-Q",
        "colab_type": "code",
        "colab": {
          "base_uri": "https://localhost:8080/",
          "height": 459
        },
        "outputId": "6775d171-4f08-4bec-fd41-8f8d2a230977"
      },
      "source": [
        "model = Sequential()\n",
        "model.add(Conv2D(32, kernel_size=(3, 3), activation='relu', input_shape=input_shape))\n",
        "model.add(MaxPooling2D(pool_size=(2, 2)))\n",
        "model.add(Conv2D(64, (3, 3), activation='relu'))\n",
        "model.add(MaxPooling2D(pool_size=(2, 2)))\n",
        "model.add(Dropout(0.25))\n",
        "model.add(Flatten())\n",
        "model.add(Dense(128, activation='relu'))\n",
        "model.add(Dropout(0.5))\n",
        "model.add(Dense(num_classes, activation='softmax'))\n",
        "model.summary()"
      ],
      "execution_count": null,
      "outputs": [
        {
          "output_type": "stream",
          "text": [
            "Model: \"sequential_1\"\n",
            "_________________________________________________________________\n",
            "Layer (type)                 Output Shape              Param #   \n",
            "=================================================================\n",
            "conv2d_1 (Conv2D)            (None, 26, 26, 32)        320       \n",
            "_________________________________________________________________\n",
            "max_pooling2d_1 (MaxPooling2 (None, 13, 13, 32)        0         \n",
            "_________________________________________________________________\n",
            "conv2d_2 (Conv2D)            (None, 11, 11, 64)        18496     \n",
            "_________________________________________________________________\n",
            "max_pooling2d_2 (MaxPooling2 (None, 5, 5, 64)          0         \n",
            "_________________________________________________________________\n",
            "dropout_1 (Dropout)          (None, 5, 5, 64)          0         \n",
            "_________________________________________________________________\n",
            "flatten_1 (Flatten)          (None, 1600)              0         \n",
            "_________________________________________________________________\n",
            "dense_1 (Dense)              (None, 128)               204928    \n",
            "_________________________________________________________________\n",
            "dropout_2 (Dropout)          (None, 128)               0         \n",
            "_________________________________________________________________\n",
            "dense_2 (Dense)              (None, 10)                1290      \n",
            "=================================================================\n",
            "Total params: 225,034\n",
            "Trainable params: 225,034\n",
            "Non-trainable params: 0\n",
            "_________________________________________________________________\n"
          ],
          "name": "stdout"
        }
      ]
    },
    {
      "cell_type": "markdown",
      "metadata": {
        "id": "nAxYNym83r5F",
        "colab_type": "text"
      },
      "source": [
        "**Learning**"
      ]
    },
    {
      "cell_type": "code",
      "metadata": {
        "id": "S-c1INcDye8i",
        "colab_type": "code",
        "colab": {
          "base_uri": "https://localhost:8080/",
          "height": 411
        },
        "outputId": "79ba5032-5acc-4950-d56f-e2b9433a40d2"
      },
      "source": [
        "model.compile(loss=keras.losses.categorical_crossentropy,\n",
        "              optimizer=keras.optimizers.Adadelta(),\n",
        "              metrics=['accuracy'])\n",
        "\n",
        "model.fit(x_train, y_train,\n",
        "          batch_size=batch_size,\n",
        "          epochs=epochs,\n",
        "          verbose=1,\n",
        "          validation_data=(x_test, y_test))"
      ],
      "execution_count": null,
      "outputs": [
        {
          "output_type": "stream",
          "text": [
            "Train on 60000 samples, validate on 10000 samples\n",
            "Epoch 1/10\n",
            "60000/60000 [==============================] - 47s 783us/step - loss: 0.3211 - accuracy: 0.9001 - val_loss: 0.0791 - val_accuracy: 0.9741\n",
            "Epoch 2/10\n",
            "60000/60000 [==============================] - 47s 778us/step - loss: 0.1097 - accuracy: 0.9667 - val_loss: 0.0457 - val_accuracy: 0.9840\n",
            "Epoch 3/10\n",
            "60000/60000 [==============================] - 46s 770us/step - loss: 0.0820 - accuracy: 0.9755 - val_loss: 0.0433 - val_accuracy: 0.9860\n",
            "Epoch 4/10\n",
            "60000/60000 [==============================] - 46s 770us/step - loss: 0.0669 - accuracy: 0.9804 - val_loss: 0.0343 - val_accuracy: 0.9883\n",
            "Epoch 5/10\n",
            "60000/60000 [==============================] - 46s 768us/step - loss: 0.0580 - accuracy: 0.9821 - val_loss: 0.0295 - val_accuracy: 0.9899\n",
            "Epoch 6/10\n",
            "60000/60000 [==============================] - 46s 770us/step - loss: 0.0529 - accuracy: 0.9836 - val_loss: 0.0310 - val_accuracy: 0.9906\n",
            "Epoch 7/10\n",
            "60000/60000 [==============================] - 46s 769us/step - loss: 0.0481 - accuracy: 0.9857 - val_loss: 0.0250 - val_accuracy: 0.9917\n",
            "Epoch 8/10\n",
            "60000/60000 [==============================] - 46s 769us/step - loss: 0.0433 - accuracy: 0.9872 - val_loss: 0.0256 - val_accuracy: 0.9922\n",
            "Epoch 9/10\n",
            "60000/60000 [==============================] - 46s 770us/step - loss: 0.0430 - accuracy: 0.9873 - val_loss: 0.0254 - val_accuracy: 0.9920\n",
            "Epoch 10/10\n",
            "60000/60000 [==============================] - 46s 766us/step - loss: 0.0398 - accuracy: 0.9880 - val_loss: 0.0236 - val_accuracy: 0.9917\n"
          ],
          "name": "stdout"
        },
        {
          "output_type": "execute_result",
          "data": {
            "text/plain": [
              "<keras.callbacks.callbacks.History at 0x7fe9df802be0>"
            ]
          },
          "metadata": {
            "tags": []
          },
          "execution_count": 4
        }
      ]
    },
    {
      "cell_type": "markdown",
      "metadata": {
        "id": "Y4s7z27k3xKr",
        "colab_type": "text"
      },
      "source": [
        ""
      ]
    },
    {
      "cell_type": "markdown",
      "metadata": {
        "id": "xKx_9MBp3zOO",
        "colab_type": "text"
      },
      "source": [
        "**Evaluating the Model**"
      ]
    },
    {
      "cell_type": "code",
      "metadata": {
        "id": "QKyYCNDQ0lpa",
        "colab_type": "code",
        "colab": {
          "base_uri": "https://localhost:8080/",
          "height": 51
        },
        "outputId": "dae84ef9-4af6-45ad-e6f2-94142f0f9a15"
      },
      "source": [
        "score = model.evaluate(x_test, y_test, verbose=0)\n",
        "print('Test loss:', score[0])\n",
        "print('Test accuracy:', score[1])\n"
      ],
      "execution_count": null,
      "outputs": [
        {
          "output_type": "stream",
          "text": [
            "Test loss: 0.023579105499738944\n",
            "Test accuracy: 0.9916999936103821\n"
          ],
          "name": "stdout"
        }
      ]
    },
    {
      "cell_type": "markdown",
      "metadata": {
        "id": "lY5vMXbq36ey",
        "colab_type": "text"
      },
      "source": [
        "**Sample Testing from the Test Set , Choosing 126th Sample Image**"
      ]
    },
    {
      "cell_type": "code",
      "metadata": {
        "id": "YbMKD3JP0nGe",
        "colab_type": "code",
        "colab": {
          "base_uri": "https://localhost:8080/",
          "height": 265
        },
        "outputId": "886b38ef-0e82-4c6b-c406-9dcca82ebd5b"
      },
      "source": [
        "\n",
        "plt.imshow(x_test[126].reshape(28,28),cmap='gray')\n",
        "plt.show()"
      ],
      "execution_count": null,
      "outputs": [
        {
          "output_type": "display_data",
          "data": {
            "image/png": "[encoded data removed]",
            "text/plain": [
              "<Figure size 432x288 with 1 Axes>"
            ]
          },
          "metadata": {
            "tags": [],
            "needs_background": "light"
          }
        }
      ]
    },
    {
      "cell_type": "markdown",
      "metadata": {
        "id": "2u8ErEQX4DwY",
        "colab_type": "text"
      },
      "source": [
        "**Predict 126th Test Sample**"
      ]
    },
    {
      "cell_type": "code",
      "metadata": {
        "id": "VYIzrg7L0rX3",
        "colab_type": "code",
        "colab": {
          "base_uri": "https://localhost:8080/",
          "height": 187
        },
        "outputId": "4095aaf9-ecde-4671-b32e-61416fa687ea"
      },
      "source": [
        "import numpy as np\n",
        "prediction = model.predict(x_test[126:127])\n",
        "print('Prediction Score:\\n',prediction[0])\n",
        "thresholded = (prediction>0.5)*1\n",
        "print('\\nThresholded Score:\\n',thresholded[0])\n",
        "print('\\nPredicted Digit:\\n',np.where(thresholded == 1)[1][0])"
      ],
      "execution_count": null,
      "outputs": [
        {
          "output_type": "stream",
          "text": [
            "Prediction Score:\n",
            " [9.99887586e-01 2.70945595e-08 5.14442536e-06 1.97282148e-07\n",
            " 9.23706764e-08 1.39645999e-06 2.95413861e-06 6.01289116e-07\n",
            " 1.90325045e-06 1.00055615e-04]\n",
            "\n",
            "Thresholded Score:\n",
            " [1 0 0 0 0 0 0 0 0 0]\n",
            "\n",
            "Predicted Digit:\n",
            " 0\n"
          ],
          "name": "stdout"
        }
      ]
    },
    {
      "cell_type": "markdown",
      "metadata": {
        "id": "VLcmMRLr-m5U",
        "colab_type": "text"
      },
      "source": [
        "**Save the Model Locally**"
      ]
    },
    {
      "cell_type": "code",
      "metadata": {
        "id": "gmA2WXOW-u3e",
        "colab_type": "code",
        "colab": {}
      },
      "source": [
        "model.save(\"digit_recog_cnn_model.h5\")"
      ],
      "execution_count": null,
      "outputs": []
    },
    {
      "cell_type": "code",
      "metadata": {
        "id": "i2OrMT0qFNsI",
        "colab_type": "code",
        "colab": {}
      },
      "source": [
        ""
      ],
      "execution_count": null,
      "outputs": []
    }
  ]
}